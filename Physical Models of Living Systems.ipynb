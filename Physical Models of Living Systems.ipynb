{
 "cells": [
  {
   "cell_type": "markdown",
   "metadata": {},
   "source": [
    "Instead of using equally-spaced tick marks representing equal intervals on the vertical axis, sometimes a logarithmic scale is used. Each point is drawn at a vertical position proportional to the logarithm of the dependent variable. The horizontal axis (time) is drawn with an ordinary linear scale. This is called a semilog plot, and it allows you to see when a data series is an exponential function of time.\n",
    "\n",
    "Log axes are usually labeled at each power of 10"
   ]
  },
  {
   "cell_type": "code",
   "execution_count": null,
   "metadata": {
    "collapsed": true
   },
   "outputs": [],
   "source": []
  }
 ],
 "metadata": {
  "anaconda-cloud": {},
  "kernelspec": {
   "display_name": "Python [default]",
   "language": "python",
   "name": "python3"
  },
  "language_info": {
   "codemirror_mode": {
    "name": "ipython",
    "version": 3
   },
   "file_extension": ".py",
   "mimetype": "text/x-python",
   "name": "python",
   "nbconvert_exporter": "python",
   "pygments_lexer": "ipython3",
   "version": "3.5.2"
  }
 },
 "nbformat": 4,
 "nbformat_minor": 1
}
